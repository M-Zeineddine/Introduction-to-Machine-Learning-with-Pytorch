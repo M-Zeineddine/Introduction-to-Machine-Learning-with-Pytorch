{
 "cells": [
  {
   "cell_type": "code",
   "execution_count": 1,
   "id": "8019e5ad-3cae-4a2f-bc29-2754a1496316",
   "metadata": {},
   "outputs": [
    {
     "name": "stdout",
     "output_type": "stream",
     "text": [
      "testing\n"
     ]
    }
   ],
   "source": [
    "print(\"testing\")"
   ]
  },
  {
   "cell_type": "markdown",
   "id": "90cb36b4-e3e0-44a3-b19e-8d585eb6152a",
   "metadata": {},
   "source": [
    "# ___header___"
   ]
  },
  {
   "cell_type": "markdown",
   "id": "9510738b-685b-4621-a593-7df4c8fcf8da",
   "metadata": {},
   "source": [
    "[Udacity's home page](https://www.udacity.com)"
   ]
  },
  {
   "cell_type": "code",
   "execution_count": null,
   "id": "137a44ae-762b-44b6-9079-d92b58867fe1",
   "metadata": {},
   "outputs": [],
   "source": []
  }
 ],
 "metadata": {
  "kernelspec": {
   "display_name": "Python [conda env:base] *",
   "language": "python",
   "name": "conda-base-py"
  },
  "language_info": {
   "codemirror_mode": {
    "name": "ipython",
    "version": 3
   },
   "file_extension": ".py",
   "mimetype": "text/x-python",
   "name": "python",
   "nbconvert_exporter": "python",
   "pygments_lexer": "ipython3",
   "version": "3.13.5"
  }
 },
 "nbformat": 4,
 "nbformat_minor": 5
}
